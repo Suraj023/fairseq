{
  "nbformat": 4,
  "nbformat_minor": 0,
  "metadata": {
    "colab": {
      "name": "WAV2VEC.ipynb",
      "provenance": [],
      "collapsed_sections": []
    },
    "kernelspec": {
      "name": "python3",
      "display_name": "Python 3"
    },
    "language_info": {
      "name": "python"
    },
    "accelerator": "GPU"
  },
  "cells": [
    {
      "cell_type": "code",
      "metadata": {
        "colab": {
          "resources": {
            "http://localhost:8080/nbextensions/google.colab/files.js": {
              "data": "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",
              "ok": true,
              "headers": [
                [
                  "content-type",
                  "application/javascript"
                ]
              ],
              "status": 200,
              "status_text": ""
            }
          },
          "base_uri": "https://localhost:8080/",
          "height": 72
        },
        "id": "TZq1YPNAGHQw",
        "outputId": "5b9c41ab-df83-4d6a-cc1a-e86e581d39ca"
      },
      "source": [
        "from google.colab import files,drive\n",
        "files.upload()"
      ],
      "execution_count": 13,
      "outputs": [
        {
          "output_type": "display_data",
          "data": {
            "text/html": [
              "\n",
              "     <input type=\"file\" id=\"files-48486df1-d208-4be8-9ff3-852338a18db2\" name=\"files[]\" multiple disabled\n",
              "        style=\"border:none\" />\n",
              "     <output id=\"result-48486df1-d208-4be8-9ff3-852338a18db2\">\n",
              "      Upload widget is only available when the cell has been executed in the\n",
              "      current browser session. Please rerun this cell to enable.\n",
              "      </output>\n",
              "      <script src=\"/nbextensions/google.colab/files.js\"></script> "
            ],
            "text/plain": [
              "<IPython.core.display.HTML object>"
            ]
          },
          "metadata": {
            "tags": []
          }
        },
        {
          "output_type": "stream",
          "text": [
            "Saving Audio.mp3 to Audio (2).mp3\n"
          ],
          "name": "stdout"
        }
      ]
    },
    {
      "cell_type": "code",
      "metadata": {
        "colab": {
          "base_uri": "https://localhost:8080/"
        },
        "id": "LD0N1GPAGHVY",
        "outputId": "349b3335-0e0e-480c-85e7-3f0c330af2d5"
      },
      "source": [
        "!pip install pydub"
      ],
      "execution_count": 2,
      "outputs": [
        {
          "output_type": "stream",
          "text": [
            "Requirement already satisfied: pydub in /usr/local/lib/python3.7/dist-packages (0.25.1)\n"
          ],
          "name": "stdout"
        }
      ]
    },
    {
      "cell_type": "code",
      "metadata": {
        "colab": {
          "base_uri": "https://localhost:8080/"
        },
        "id": "spAmHtdfF2Ql",
        "outputId": "8653b19a-9b62-4079-b7ec-3a2c0933d160"
      },
      "source": [
        "from pydub import AudioSegment\n",
        "  \n",
        "# assign files\n",
        "input_file = \"Audio.mp3\"\n",
        "output_file = \"result.wav\"\n",
        "  \n",
        "# convert mp3 file to wav file\n",
        "sound = AudioSegment.from_mp3(input_file)\n",
        "sound.export(output_file, format=\"wav\")"
      ],
      "execution_count": 3,
      "outputs": [
        {
          "output_type": "execute_result",
          "data": {
            "text/plain": [
              "<_io.BufferedRandom name='result.wav'>"
            ]
          },
          "metadata": {
            "tags": []
          },
          "execution_count": 3
        }
      ]
    },
    {
      "cell_type": "code",
      "metadata": {
        "id": "PLTnNN5GIyAd"
      },
      "source": [
        "\n",
        "import IPython.display as display\n",
        "display.Audio(\"result.wav\", autoplay=True)"
      ],
      "execution_count": 8,
      "outputs": []
    },
    {
      "cell_type": "code",
      "metadata": {
        "colab": {
          "base_uri": "https://localhost:8080/"
        },
        "id": "hDqBUUTSI2oX",
        "outputId": "e2a18c2a-ef1f-4d54-8346-6b95957a3bee"
      },
      "source": [
        "from pydub import AudioSegment\n",
        "\n",
        "\n",
        "mp3_audio = AudioSegment.from_file(r\"result.wav\", format=\"wav\")\n",
        "print(len(mp3_audio)/(1000*60))\n",
        "# 12 Minutes audio breaks into 3 minutes 4 audio files (slicingis done by milliseconds)\n",
        "\n",
        "counter_audio = 180\n",
        "split_audio = [mp3_audio[:180*1000]]\n",
        "for i in range(4):\n",
        "    split_audio.append(mp3_audio[counter_audio*1000:(counter_audio+180)*1000])\n",
        "    counter_audio += 180\n",
        "\n",
        "count = 0\n",
        "# # lets save it!\n",
        "for count, audio_object in enumerate(split_audio):\n",
        "    count += 1\n",
        "    with open(f\"{count}_audi_file.wav\", 'wb') as out_f:\n",
        "        audio_object.export(out_f, format='wav')"
      ],
      "execution_count": 9,
      "outputs": [
        {
          "output_type": "stream",
          "text": [
            "15.368733333333333\n"
          ],
          "name": "stdout"
        }
      ]
    },
    {
      "cell_type": "code",
      "metadata": {
        "colab": {
          "base_uri": "https://localhost:8080/"
        },
        "id": "SlbknCE8I5w_",
        "outputId": "c243f794-7539-4860-a31c-e8c07af29708"
      },
      "source": [
        "!pip install transformers\n"
      ],
      "execution_count": 14,
      "outputs": [
        {
          "output_type": "stream",
          "text": [
            "Requirement already satisfied: transformers in /usr/local/lib/python3.7/dist-packages (4.9.1)\n",
            "Requirement already satisfied: huggingface-hub==0.0.12 in /usr/local/lib/python3.7/dist-packages (from transformers) (0.0.12)\n",
            "Requirement already satisfied: tokenizers<0.11,>=0.10.1 in /usr/local/lib/python3.7/dist-packages (from transformers) (0.10.3)\n",
            "Requirement already satisfied: importlib-metadata in /usr/local/lib/python3.7/dist-packages (from transformers) (4.6.1)\n",
            "Requirement already satisfied: regex!=2019.12.17 in /usr/local/lib/python3.7/dist-packages (from transformers) (2019.12.20)\n",
            "Requirement already satisfied: packaging in /usr/local/lib/python3.7/dist-packages (from transformers) (21.0)\n",
            "Requirement already satisfied: numpy>=1.17 in /usr/local/lib/python3.7/dist-packages (from transformers) (1.19.5)\n",
            "Requirement already satisfied: pyyaml>=5.1 in /usr/local/lib/python3.7/dist-packages (from transformers) (5.4.1)\n",
            "Requirement already satisfied: tqdm>=4.27 in /usr/local/lib/python3.7/dist-packages (from transformers) (4.41.1)\n",
            "Requirement already satisfied: sacremoses in /usr/local/lib/python3.7/dist-packages (from transformers) (0.0.45)\n",
            "Requirement already satisfied: requests in /usr/local/lib/python3.7/dist-packages (from transformers) (2.23.0)\n",
            "Requirement already satisfied: filelock in /usr/local/lib/python3.7/dist-packages (from transformers) (3.0.12)\n",
            "Requirement already satisfied: typing-extensions in /usr/local/lib/python3.7/dist-packages (from huggingface-hub==0.0.12->transformers) (3.7.4.3)\n",
            "Requirement already satisfied: pyparsing>=2.0.2 in /usr/local/lib/python3.7/dist-packages (from packaging->transformers) (2.4.7)\n",
            "Requirement already satisfied: zipp>=0.5 in /usr/local/lib/python3.7/dist-packages (from importlib-metadata->transformers) (3.5.0)\n",
            "Requirement already satisfied: idna<3,>=2.5 in /usr/local/lib/python3.7/dist-packages (from requests->transformers) (2.10)\n",
            "Requirement already satisfied: chardet<4,>=3.0.2 in /usr/local/lib/python3.7/dist-packages (from requests->transformers) (3.0.4)\n",
            "Requirement already satisfied: urllib3!=1.25.0,!=1.25.1,<1.26,>=1.21.1 in /usr/local/lib/python3.7/dist-packages (from requests->transformers) (1.24.3)\n",
            "Requirement already satisfied: certifi>=2017.4.17 in /usr/local/lib/python3.7/dist-packages (from requests->transformers) (2021.5.30)\n",
            "Requirement already satisfied: click in /usr/local/lib/python3.7/dist-packages (from sacremoses->transformers) (7.1.2)\n",
            "Requirement already satisfied: joblib in /usr/local/lib/python3.7/dist-packages (from sacremoses->transformers) (1.0.1)\n",
            "Requirement already satisfied: six in /usr/local/lib/python3.7/dist-packages (from sacremoses->transformers) (1.15.0)\n"
          ],
          "name": "stdout"
        }
      ]
    },
    {
      "cell_type": "code",
      "metadata": {
        "colab": {
          "base_uri": "https://localhost:8080/"
        },
        "id": "p_05zXgII-zw",
        "outputId": "6e85955f-1b48-498c-fc05-d0f5e4d1bc03"
      },
      "source": [
        "\n",
        "import librosa\n",
        "import torch\n",
        "from transformers import Wav2Vec2ForCTC, Wav2Vec2Tokenizer\n",
        "\n",
        "# load model and tokenizer\n",
        "tokenizer = Wav2Vec2Tokenizer.from_pretrained(\"facebook/wav2vec2-base-960h\")\n",
        "model = Wav2Vec2ForCTC.from_pretrained(\"facebook/wav2vec2-base-960h\")\n",
        "\n",
        "\n",
        "# load any audio file of your choice\n",
        "collection_of_text = []\n",
        "for i in range(4):\n",
        "\n",
        "    speech, rate = librosa.load(f\"{i+1}_audi_file.wav\", sr=16000)\n",
        "\n",
        "    input_values = tokenizer(speech, return_tensors='pt').input_values\n",
        "    # Store logits (non-normalized predictions)\n",
        "    with torch.no_grad():\n",
        "        logits = model(input_values).logits\n",
        "\n",
        "    # Store predicted id's\n",
        "    predicted_ids = torch.argmax(logits, dim=-1)\n",
        "    # decode the audio to generate text\n",
        "    # Passing the prediction to the tokenzer decode to get the transcription\n",
        "    transcription = tokenizer.batch_decode(predicted_ids)[0]\n",
        "    # transcriptions = tokenizer.decode(predicted_ids[0])\n",
        "    print(transcription)\n",
        "    \n",
        "\n"
      ],
      "execution_count": 12,
      "outputs": [
        {
          "output_type": "stream",
          "text": [
            "The tokenizer class you load from this checkpoint is not the same type as the class this function is called from. It may result in unexpected tokenization. \n",
            "The tokenizer class you load from this checkpoint is 'Wav2Vec2CTCTokenizer'. \n",
            "The class this function is called from is 'Wav2Vec2Tokenizer'.\n",
            "/usr/local/lib/python3.7/dist-packages/transformers/models/wav2vec2/tokenization_wav2vec2.py:419: FutureWarning: The class `Wav2Vec2Tokenizer` is deprecated and will be removed in version 5 of Transformers. Please use `Wav2Vec2Processor` or `Wav2Vec2CTCTokenizer` instead.\n",
            "  FutureWarning,\n",
            "Some weights of Wav2Vec2ForCTC were not initialized from the model checkpoint at facebook/wav2vec2-base-960h and are newly initialized: ['wav2vec2.masked_spec_embed']\n",
            "You should probably TRAIN this model on a down-stream task to be able to use it for predictions and inference.\n"
          ],
          "name": "stderr"
        },
        {
          "output_type": "stream",
          "text": [
            "GOOD EVENING THIS IS THE THIRTY SEVENTH TIME I HAVE SPOKEN TO YOU FROM THIS OFFICE WHERE SO MANY DECISIONS HAVE BEEN MADE THAT SHAPED THE HISTORY OF THIS NATION EACH TIME I HAVE DONE SO TO DISCUSS WITH YOU SOME MATTER THAT I BELIEVE EFFECTED THE NATIONAL ENTRESS IN ALL THE DECISIONS I HAVE MADE IN MY PUBLIC LIFE I HAVE ALWAYS TRIED TO DO WHAT WAS BEST FOR THE NATION THROUGHOUT THE LONG AND DIFFICULT PERIOD A WUATIGATE I HAVE FELT IT WAS MY DUTY TO PERSEVERE TO MAKE EVERY POSSIBLE EFFORT TO COMPLETE THE TERM OF OFFICE TO WHICH YOU ELECTED IN THE BASH FEW DAYS HOWEVER IT HAS BECOME EVIDENT TO ME THAT I NO LONGER HAVE A STRONG ENOUGH POLITICAL BASE IN THE CONGRESS TO JUSTIFY CONTINUING THAT EFFORT AS LONG AS THERE WAS SUCH A BASE I FELT STRONGLY THAT IT WAS NECESSARY TO SEE THE CONSTITUTIONAL PROCESS THROUGH TO ITS CONCLUSION THAT THE DO OTHERWISE WOULD BE UNFAITHFUL TO THE SPIRIT OF THAT DELIBERATELY DIFFICULT PROCESS AND A DANGEROUSLY DESTABLIZING PRECEDENT FOR THE FUTURE BUT WITH THE DISAPPEARANCE OF THAT BASE I NOW BELIEVE THAT THE CONSTITUTIONAL PURPOSE HAS BEEN SIR AND THERE IS NO LONGER A NEED FOR THE PROCESS TO BE PROLONGED I WOULD HAVE PREFERRED TO CARRY THROUGH TO THE FINISH WHATEVER THE PERSONAL AGONY IT WOULD HAVE INVOLVED AND MY FAMILY UNANIMOUSLY URGE ME TO DO SO BAT THE INTERESTS OF THE NATION MUST ALWAYS COME BEFORE ANY PERSONAL CONSIDERATIONS FROM THE DISCUSSIONS I HAVE HAD WITH CONGRESSIONAL AND OTHER LEADERS I HAVE CONCLUDED THAT BECAUSE OF THE WATIGATE MATTER I MIGHT NOT HAVE THE SUPPORT OF THE CONGRESS THAT I WOULD CONSIDER NECESSARY TO BACK THE VERY DIFFICULT DECISIONS AND CARRY OUT THE DUTIES OF THIS OFFICE IN THE WAY THE INTERESTS OF THE NATION A REQUIRE I HAVE NEVER BEEN  ACQUITTER TO LEAVE OFFICE BEFORE MY TERM IS COMPLETED IS ABHORRENT TO EVERY INSTINCT IN MY BODY BUT AS PRESIDENT I MUST PUT THE INTERESTS OF AMERICA FIRST AMERICA NEEDS A FOOL TIME PRESIDENT AND A FULL TIME CONGRESS PARTICULARLY AT THIS TIME WITH PROBLEMS WE FACE AT HOMAN ABRAD TO CONTINUE TO FIGHT\n",
            "OUGH THE MONTHS AHEAD FOR MY PERSONAL VINDICATION WOULD ALMOST TOTALLY ABSORB THE TIME AND ATTENTION OF BOTH THE PRESIDENT AND THE CONGRESS IN A PERIOD WHEN OUR EN TIRE FOCUS SHOULD BE ON THE GREAT ISSUES OF PEACE ABROAD AND PROSPERITY WITHOUT INFLATION AT HOME THEREFORE I SHALL RESIGN THE PRESIDENCY EFFECTIVE AT NOON TO MORROW ICE PRESIDENT FOR WILL BE SWORN IN THIS PRESIDENT AT THAT HOUR IN THIS OFFUC AS I RECALL THE HIGH HOPES FOR AMERICA WITH WHICH WE BEGAN THIS SECOND TURN I FEEL A GREAT SACTNESS THAT I WILL NOT BE HERE IN THIS OFFICE WORKING ON YOUR BEHALF TO ACHIEVE THOSE HOPES IN THE NEXT TWO AND A HALF YEARS BUT IN TURNING OVER DIRECTION OF THE GOVERNMENT TO VICE PRESIDENT FORD I KNOW AS I TOLD THE NATION WHEN I NOMINATE HIM FOR THAT OFFICE TEN MONTHS AGO THAT THE LEADERSHIP OF AMERICA WILL BE IN GOOD HANDS IN PASSING THIS OFFICE TO THE VICE PRESIDENT I ALSO DO SO WITH THE PROFOUND SENCE OF THE WEIGHT OF RESPONSIBILITY THAT WILL FALL ON HIS SHOULDERS TO MORROW AND THEREFORE OF THE UNDER STANDING THE PATIENCE THE COOPERATION HE WILL NEED FROM ALL AMARCAS AS HE ASSUMES THAT RESPONSIBILITY HE WILL DESERVE THE HELP AND THI SA PORT OF ALL OF US AS WE LOOK TO THE FUTURE THE FIRST ESSENTIAL IS TO BEGIN HEALING THE WOUNDS OF THIS NATION TO PUT THE BITTERNESS AND DE VISIONS OF THE RECENT PASSET BEHIND US AND TO REDISCOVER THOSE SHARED IDEALS THAT LIETH THE HEART OF OUR STRENGTH AND UNITY AS A GRAVE AND A A FREE PEOPLE BY TAKING THIS ACTION I HOPE THAT I WILL HAVE HASTENED THE SCART OF THAT PROCESS OF HEALY WHICH IS SO DESPERATELY NEEDED IN AMERICA I REGRET DEEPLY ANY INJURIES MAY HAVE BEEN DONE IN THE COURSE OF THE EVENTS THAT LED TO THIS DECISION I WOULD SAY ONLY THAT IF SOME OF MY JUDGMENTS WERE WRONG AND SOME WERE WRONG THEY WERE MADE IN WHAT I BELIEVED AT THE TIME TO BE THE BEST INTEREST OF THE NATION TO THOSE WHO HAVE STOOD WITH ME DURING THESE PASTIFFICULT MONTHS TO MY FAMILY MY FRIENDS THE MANY OTHERS WHO JOIN\n",
            "IN SUPPARTING MY CAUSE BECAUSE THEY BELIEVE IT WAS RIGHT I WILL BE ETERNALLY GREATEFUL FOR YOUR SUPPORT AND WITH OSE WHO HAVE NOT FELT BEABLE TO GIVE ME YOUR SUPPORT LET ME SAY I LEAVE WITH NO BITTERS FOR THOSE WILL OPPOSE ME BECAUSE ALL OF US IN THE FINAL ANALYSIS HAVE BEEN CONCERNED WITH THE GOOD OF THE COUNTRY HOWEVER OUR JUDGMENTS MIGHT DIFFERSO LET US ALL NOW JOIN TOGETHER IN AFFIRMING THAT COMMON COMMITT  AND IN HELPING OUR NEW PRESIDENT SUCCEED FOR THE BENEFIT OF ALL AMOURCAS I SHALL LEAVE THIS OFFICE WITH REGRET AT NOT COMPLETING MY TERM BUT WITH GRATITUDE FOR THE PRIVILEGE OF SERVE AS YOUR PRESENT FOR THE PAST FIVE AND A HALF YEARS THESE YEARS HAVE BEEN A MOMENTOUS TIME IN THE HISTORY OF OUR NATION IN THE WORLD THEY HAVE BEEN A TIME OF ACHIEVEMENT IN WHICH WE CAN ALL BE PROUD ACHIEVEMENTS THAT REPRESENT THE SHARED EFFORTS OF THE ADMINISTRATION THE CONGRESS IN THE PEOPLE BUT THE CHALLENGE IS AHEAD ARE EQUALLY GREAT AND THEY TOO WILL REQUIRE THE SUPPART IN THE EFFORTS OF THE CONGRESS IN THE PEOPLE WORKING IN CO OPERATION WITH THE NEW ADMINISTRATION WE HAVE ENDED AMERICAS LONGEST WAR BUT IN THE WORK  A SECURING A LASTING PEACE IN THE WORLD THE GORLDS AHEAD ARE EVEN MORE FAR REACHING AND MORE DIFFICULT WE MUST COMPLETE A STRUCTURE OF PEACE SO THAT IT WILL BE SAID OF THIS GENERATION OUR GENERATION OF AMERICANS BY THE PEOPLE OF ALL NATIONS NOT ONLY THAT WE ENDED ONE WAR BUT THAT WE  PREVENTED FUTURE WARS WE HAVE UNLOCKED THE DOORS THAT FOR A QUARTER OF A CENTURY STOOD BETWEEN THE UNITED STATES IN THE PEOPLE'S REPUBLIC OF CHINAWE MUST NOW INSURE THAT THE ONE QUARTER OF THE WORLD'S PEOPLE WHO LIVE IN THE PEOPLE'S REPUBLIC OF CHINA WILL BE AND REMAIN NOT OUR ENEMYES BUT OUR FRIENDS AN THE MITALEAST ONE HUNDRED MILLION PEOPLE IN THE ARAB COUNTRIES MANY OF WHOM HAVE CONSIDERED US THEIR ENEMY FOR NEARLY TWENTY YEARS NOW LOOK ON US AS THEIR FRIENDS WE MUST CONTINUE TO BUILD ON THAT FRENCION SO THAT PEACE CAN SETTLE AT LAST OVER THE MITALIES AND SO THAT THE CRADLE\n",
            "OF CIVILIZATION WILL NOT BECOME ITS GRAVE TOGETHER WITH A SOVIAT UNION WE HAVE MADE THE CRUCIAL BREAK TRUS THAT HAVE BEGUN THE PROCESS OF LIMITING NEWCLEAR ARMS BUT WE MUST SET AS OUR GOL NOT JUST LIMITING BUT REDUCING AND FINALY DESTROY THESE TERRIBLE WEAPONS SO THAT THEY CANNOT DESTROY CIVILIZATION AND SO THAT THE THREAD OF NEWCLIER WAR WILL NO LONGER HANG OVER THE WORLD AND THE PEOPLE WE HAVE OPENED THE NEW RELATION WITH THE SSOVIAT UNION WE MUST CONTINUE TO DEVELOP AND EXPANDED THAT NEW RELATIONSHIP SO THAT THE TWO STRONGOST NATIONS OF THE WORLD WILL LIVE TOGETHER IN COOPERATION RATHER AND CONFRONTATION AROUND THE WORLD AND ASIA AN AFRICA AND LATIN AMERICA AND THE MIDDLEIEAST THERE ARE MILLIONS OF PEOPLE WHO LIVE IN TERRIBLE POVERTY EVEN STARVATION WE MUST KEEP AS OUR GO TURNING AWAY FROM PRODUCTION FOR WAR AND EXPANDING PRODUCTION FOR PEACE SO THE PEOPLE EVERYWHARE ON THIS ERTH CAN IT LAST LOOKE FORWARD IN THEIR CHILDREN'S TIME IF NOT IN OUR OWN TIME TO HAVING THE NECESSITIES FOR A DECENT LIFE HERE IN AMERICA WE ARE FORTUNATE A MOST OF OUR PEOPLE HAVE NOT ONLY THE BLESSINGS OF LIBERTY BUT ALSO THE MEANS STO LIVE FULL AND GOOD AND BY THE WORLD STANDARDS EVEN ABUNDANT LIVES WE MUST PRESS ON HOWEVER TOWARD A GOAL NOT ONLY OF MOR BETTER JOBS BUT A FULL OPPORTUNITY FOR EVERY AMERICAN AND OF WHAT WE ARE STRIVING SO HARD RIGHT NOW TO ACHEED PROSPERITY WITHOUT INFLATION FOR MORE THAN A QUARTER OF A CENTURY IN PUBLIC LIFE I HAVE SHARED IN THE TURBULENT HISTORY OF THIS EREN I HAVE FOUGHT FOR WHAT I BELIEVIN I HAVE TRIED TO THE BEST OF MY ABILITY TO DISCHARGE THOSE DUTIES AND MEET THOSE RESPONSIBILITIES THAT WERE INTRUSTED TO ME SOMETIMES I HAVE SUCCEEDED AND SOMETIMES I HAVE FAILED BUT ALWAYS I HAVE TAKEN HEART FROM WHAT THEADOROSEBOUT ONCE SAID ABOUT THE MAN IN THE ARENA WHOSE FACE IS MARD BY DUST AND SWEAT AND BL\n"
          ],
          "name": "stdout"
        }
      ]
    },
    {
      "cell_type": "code",
      "metadata": {
        "id": "oQTqgP5qVa8A"
      },
      "source": [
        ""
      ],
      "execution_count": 11,
      "outputs": []
    },
    {
      "cell_type": "code",
      "metadata": {
        "id": "J-XnTe99U8Z1"
      },
      "source": [
        ""
      ],
      "execution_count": 14,
      "outputs": []
    },
    {
      "cell_type": "code",
      "metadata": {
        "id": "u4vyORzQJPdl"
      },
      "source": [
        ""
      ],
      "execution_count": 14,
      "outputs": []
    }
  ]
}